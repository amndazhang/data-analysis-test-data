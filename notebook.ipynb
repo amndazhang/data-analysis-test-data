{
 "cells": [
  {
   "cell_type": "code",
   "metadata": {
    "cell_id": "b33d8faba04443dcbe50ceb1d03371cb",
    "tags": [],
    "deepnote_to_be_reexecuted": false,
    "source_hash": "58c012fb",
    "execution_start": 1658770649976,
    "execution_millis": 4943,
    "deepnote_cell_type": "code",
    "deepnote_cell_height": 741
   },
   "source": "!pip install gmaps==0.9.0",
   "execution_count": null,
   "outputs": [
    {
     "name": "stdout",
     "text": "Collecting gmaps==0.9.0\n  Downloading gmaps-0.9.0.tar.gz (1.1 MB)\n\u001b[2K     \u001b[90m━━━━━━━━━━━━━━━━━━━━━━━━━━━━━━━━━━━━━━━━\u001b[0m \u001b[32m1.1/1.1 MB\u001b[0m \u001b[31m58.3 MB/s\u001b[0m eta \u001b[36m0:00:00\u001b[0m\n\u001b[?25h  Preparing metadata (setup.py) ... \u001b[?25ldone\n\u001b[?25hRequirement already satisfied: ipython>=5.3.0 in /shared-libs/python3.9/py-core/lib/python3.9/site-packages (from gmaps==0.9.0) (7.34.0)\nCollecting ipywidgets>=7.0.0\n  Downloading ipywidgets-7.7.1-py2.py3-none-any.whl (123 kB)\n\u001b[2K     \u001b[90m━━━━━━━━━━━━━━━━━━━━━━━━━━━━━━━━━━━━━━\u001b[0m \u001b[32m123.4/123.4 KB\u001b[0m \u001b[31m23.7 MB/s\u001b[0m eta \u001b[36m0:00:00\u001b[0m\n\u001b[?25hRequirement already satisfied: traitlets>=4.3.0 in /shared-libs/python3.9/py-core/lib/python3.9/site-packages (from gmaps==0.9.0) (4.3.3)\nCollecting geojson>=2.0.0\n  Downloading geojson-2.5.0-py2.py3-none-any.whl (14 kB)\nRequirement already satisfied: six in /shared-libs/python3.9/py-core/lib/python3.9/site-packages (from gmaps==0.9.0) (1.16.0)\nRequirement already satisfied: matplotlib-inline in /shared-libs/python3.9/py-core/lib/python3.9/site-packages (from ipython>=5.3.0->gmaps==0.9.0) (0.1.3)\nRequirement already satisfied: jedi>=0.16 in /shared-libs/python3.9/py-core/lib/python3.9/site-packages (from ipython>=5.3.0->gmaps==0.9.0) (0.17.2)\nRequirement already satisfied: pexpect>4.3 in /shared-libs/python3.9/py-core/lib/python3.9/site-packages (from ipython>=5.3.0->gmaps==0.9.0) (4.8.0)\nRequirement already satisfied: setuptools>=18.5 in /root/venv/lib/python3.9/site-packages (from ipython>=5.3.0->gmaps==0.9.0) (58.1.0)\nRequirement already satisfied: pickleshare in /shared-libs/python3.9/py-core/lib/python3.9/site-packages (from ipython>=5.3.0->gmaps==0.9.0) (0.7.5)\nRequirement already satisfied: prompt-toolkit!=3.0.0,!=3.0.1,<3.1.0,>=2.0.0 in /shared-libs/python3.9/py-core/lib/python3.9/site-packages (from ipython>=5.3.0->gmaps==0.9.0) (3.0.29)\nRequirement already satisfied: backcall in /shared-libs/python3.9/py-core/lib/python3.9/site-packages (from ipython>=5.3.0->gmaps==0.9.0) (0.2.0)\nRequirement already satisfied: pygments in /shared-libs/python3.9/py-core/lib/python3.9/site-packages (from ipython>=5.3.0->gmaps==0.9.0) (2.12.0)\nRequirement already satisfied: decorator in /shared-libs/python3.9/py-core/lib/python3.9/site-packages (from ipython>=5.3.0->gmaps==0.9.0) (5.1.1)\nCollecting jupyterlab-widgets>=1.0.0\n  Downloading jupyterlab_widgets-1.1.1-py3-none-any.whl (245 kB)\n\u001b[2K     \u001b[90m━━━━━━━━━━━━━━━━━━━━━━━━━━━━━━━━━━━━━━\u001b[0m \u001b[32m245.3/245.3 KB\u001b[0m \u001b[31m40.4 MB/s\u001b[0m eta \u001b[36m0:00:00\u001b[0m\n\u001b[?25hCollecting widgetsnbextension~=3.6.0\n  Downloading widgetsnbextension-3.6.1-py2.py3-none-any.whl (1.6 MB)\n\u001b[2K     \u001b[90m━━━━━━━━━━━━━━━━━━━━━━━━━━━━━━━━━━━━━━━━\u001b[0m \u001b[32m1.6/1.6 MB\u001b[0m \u001b[31m89.9 MB/s\u001b[0m eta \u001b[36m0:00:00\u001b[0m\n\u001b[?25hRequirement already satisfied: ipykernel>=4.5.1 in /shared-libs/python3.9/py-core/lib/python3.9/site-packages (from ipywidgets>=7.0.0->gmaps==0.9.0) (5.5.5)\nRequirement already satisfied: ipython-genutils~=0.2.0 in /shared-libs/python3.9/py-core/lib/python3.9/site-packages (from ipywidgets>=7.0.0->gmaps==0.9.0) (0.2.0)\nRequirement already satisfied: jupyter-client in /shared-libs/python3.9/py-core/lib/python3.9/site-packages (from ipykernel>=4.5.1->ipywidgets>=7.0.0->gmaps==0.9.0) (6.1.12)\nRequirement already satisfied: tornado>=4.2 in /shared-libs/python3.9/py-core/lib/python3.9/site-packages (from ipykernel>=4.5.1->ipywidgets>=7.0.0->gmaps==0.9.0) (6.1)\nRequirement already satisfied: parso<0.8.0,>=0.7.0 in /shared-libs/python3.9/py-core/lib/python3.9/site-packages (from jedi>=0.16->ipython>=5.3.0->gmaps==0.9.0) (0.7.1)\nRequirement already satisfied: ptyprocess>=0.5 in /shared-libs/python3.9/py-core/lib/python3.9/site-packages (from pexpect>4.3->ipython>=5.3.0->gmaps==0.9.0) (0.7.0)\nRequirement already satisfied: wcwidth in /shared-libs/python3.9/py-core/lib/python3.9/site-packages (from prompt-toolkit!=3.0.0,!=3.0.1,<3.1.0,>=2.0.0->ipython>=5.3.0->gmaps==0.9.0) (0.2.5)\nRequirement already satisfied: notebook>=4.4.1 in /shared-libs/python3.9/py-core/lib/python3.9/site-packages (from widgetsnbextension~=3.6.0->ipywidgets>=7.0.0->gmaps==0.9.0) (6.3.0)\nRequirement already satisfied: pyzmq>=17 in /shared-libs/python3.9/py-core/lib/python3.9/site-packages (from notebook>=4.4.1->widgetsnbextension~=3.6.0->ipywidgets>=7.0.0->gmaps==0.9.0) (23.1.0)\nRequirement already satisfied: nbformat==5.1.3 in /shared-libs/python3.9/py-core/lib/python3.9/site-packages (from notebook>=4.4.1->widgetsnbextension~=3.6.0->ipywidgets>=7.0.0->gmaps==0.9.0) (5.1.3)\nRequirement already satisfied: prometheus-client in /shared-libs/python3.9/py-core/lib/python3.9/site-packages (from notebook>=4.4.1->widgetsnbextension~=3.6.0->ipywidgets>=7.0.0->gmaps==0.9.0) (0.14.1)\nRequirement already satisfied: jupyter-core==4.7.1 in /shared-libs/python3.9/py-core/lib/python3.9/site-packages (from notebook>=4.4.1->widgetsnbextension~=3.6.0->ipywidgets>=7.0.0->gmaps==0.9.0) (4.7.1)\nRequirement already satisfied: terminado>=0.8.3 in /shared-libs/python3.9/py-core/lib/python3.9/site-packages (from notebook>=4.4.1->widgetsnbextension~=3.6.0->ipywidgets>=7.0.0->gmaps==0.9.0) (0.15.0)\nRequirement already satisfied: argon2-cffi in /shared-libs/python3.9/py-core/lib/python3.9/site-packages (from notebook>=4.4.1->widgetsnbextension~=3.6.0->ipywidgets>=7.0.0->gmaps==0.9.0) (21.3.0)\nRequirement already satisfied: Send2Trash>=1.5.0 in /shared-libs/python3.9/py-core/lib/python3.9/site-packages (from notebook>=4.4.1->widgetsnbextension~=3.6.0->ipywidgets>=7.0.0->gmaps==0.9.0) (1.8.0)\nRequirement already satisfied: jinja2 in /shared-libs/python3.9/py-core/lib/python3.9/site-packages (from notebook>=4.4.1->widgetsnbextension~=3.6.0->ipywidgets>=7.0.0->gmaps==0.9.0) (2.11.3)\nRequirement already satisfied: nbconvert==6.0.7 in /shared-libs/python3.9/py-core/lib/python3.9/site-packages (from notebook>=4.4.1->widgetsnbextension~=3.6.0->ipywidgets>=7.0.0->gmaps==0.9.0) (6.0.7)\nRequirement already satisfied: python-dateutil>=2.1 in /shared-libs/python3.9/py-core/lib/python3.9/site-packages (from jupyter-client->ipykernel>=4.5.1->ipywidgets>=7.0.0->gmaps==0.9.0) (2.8.2)\nRequirement already satisfied: entrypoints>=0.2.2 in /shared-libs/python3.9/py-core/lib/python3.9/site-packages (from nbconvert==6.0.7->notebook>=4.4.1->widgetsnbextension~=3.6.0->ipywidgets>=7.0.0->gmaps==0.9.0) (0.4)\nRequirement already satisfied: defusedxml in /shared-libs/python3.9/py-core/lib/python3.9/site-packages (from nbconvert==6.0.7->notebook>=4.4.1->widgetsnbextension~=3.6.0->ipywidgets>=7.0.0->gmaps==0.9.0) (0.7.1)\nRequirement already satisfied: jupyterlab-pygments in /shared-libs/python3.9/py-core/lib/python3.9/site-packages (from nbconvert==6.0.7->notebook>=4.4.1->widgetsnbextension~=3.6.0->ipywidgets>=7.0.0->gmaps==0.9.0) (0.2.2)\nRequirement already satisfied: mistune<2,>=0.8.1 in /shared-libs/python3.9/py-core/lib/python3.9/site-packages (from nbconvert==6.0.7->notebook>=4.4.1->widgetsnbextension~=3.6.0->ipywidgets>=7.0.0->gmaps==0.9.0) (0.8.4)\nRequirement already satisfied: testpath in /shared-libs/python3.9/py-core/lib/python3.9/site-packages (from nbconvert==6.0.7->notebook>=4.4.1->widgetsnbextension~=3.6.0->ipywidgets>=7.0.0->gmaps==0.9.0) (0.6.0)\nRequirement already satisfied: pandocfilters>=1.4.1 in /shared-libs/python3.9/py-core/lib/python3.9/site-packages (from nbconvert==6.0.7->notebook>=4.4.1->widgetsnbextension~=3.6.0->ipywidgets>=7.0.0->gmaps==0.9.0) (1.5.0)\nRequirement already satisfied: nbclient<0.6.0,>=0.5.0 in /shared-libs/python3.9/py-core/lib/python3.9/site-packages (from nbconvert==6.0.7->notebook>=4.4.1->widgetsnbextension~=3.6.0->ipywidgets>=7.0.0->gmaps==0.9.0) (0.5.9)\nRequirement already satisfied: bleach in /shared-libs/python3.9/py-core/lib/python3.9/site-packages (from nbconvert==6.0.7->notebook>=4.4.1->widgetsnbextension~=3.6.0->ipywidgets>=7.0.0->gmaps==0.9.0) (5.0.0)\nRequirement already satisfied: jsonschema!=2.5.0,>=2.4 in /shared-libs/python3.9/py-core/lib/python3.9/site-packages (from nbformat==5.1.3->notebook>=4.4.1->widgetsnbextension~=3.6.0->ipywidgets>=7.0.0->gmaps==0.9.0) (3.2.0)\nRequirement already satisfied: MarkupSafe>=0.23 in /shared-libs/python3.9/py-core/lib/python3.9/site-packages (from jinja2->notebook>=4.4.1->widgetsnbextension~=3.6.0->ipywidgets>=7.0.0->gmaps==0.9.0) (2.0.1)\nRequirement already satisfied: argon2-cffi-bindings in /shared-libs/python3.9/py-core/lib/python3.9/site-packages (from argon2-cffi->notebook>=4.4.1->widgetsnbextension~=3.6.0->ipywidgets>=7.0.0->gmaps==0.9.0) (21.2.0)\nRequirement already satisfied: pyrsistent>=0.14.0 in /shared-libs/python3.9/py-core/lib/python3.9/site-packages (from jsonschema!=2.5.0,>=2.4->nbformat==5.1.3->notebook>=4.4.1->widgetsnbextension~=3.6.0->ipywidgets>=7.0.0->gmaps==0.9.0) (0.18.1)\nRequirement already satisfied: attrs>=17.4.0 in /shared-libs/python3.9/py-core/lib/python3.9/site-packages (from jsonschema!=2.5.0,>=2.4->nbformat==5.1.3->notebook>=4.4.1->widgetsnbextension~=3.6.0->ipywidgets>=7.0.0->gmaps==0.9.0) (21.4.0)\nRequirement already satisfied: nest-asyncio in /shared-libs/python3.9/py-core/lib/python3.9/site-packages (from nbclient<0.6.0,>=0.5.0->nbconvert==6.0.7->notebook>=4.4.1->widgetsnbextension~=3.6.0->ipywidgets>=7.0.0->gmaps==0.9.0) (1.5.5)\nRequirement already satisfied: cffi>=1.0.1 in /shared-libs/python3.9/py-core/lib/python3.9/site-packages (from argon2-cffi-bindings->argon2-cffi->notebook>=4.4.1->widgetsnbextension~=3.6.0->ipywidgets>=7.0.0->gmaps==0.9.0) (1.15.0)\nRequirement already satisfied: webencodings in /shared-libs/python3.9/py-core/lib/python3.9/site-packages (from bleach->nbconvert==6.0.7->notebook>=4.4.1->widgetsnbextension~=3.6.0->ipywidgets>=7.0.0->gmaps==0.9.0) (0.5.1)\nRequirement already satisfied: pycparser in /shared-libs/python3.9/py-core/lib/python3.9/site-packages (from cffi>=1.0.1->argon2-cffi-bindings->argon2-cffi->notebook>=4.4.1->widgetsnbextension~=3.6.0->ipywidgets>=7.0.0->gmaps==0.9.0) (2.21)\nBuilding wheels for collected packages: gmaps\n  Building wheel for gmaps (setup.py) ... \u001b[?25ldone\n\u001b[?25h  Created wheel for gmaps: filename=gmaps-0.9.0-py2.py3-none-any.whl size=2076111 sha256=debae47e78c338179cc8a6019789b3be94a5665921a8ef7cb8a4c6d0f0559bf3\n  Stored in directory: /root/.cache/pip/wheels/66/ab/29/3032938612273665f0fa4d2fab4e3ecfe86480eaaa40aaee91\nSuccessfully built gmaps\nInstalling collected packages: geojson, jupyterlab-widgets, widgetsnbextension, ipywidgets, gmaps\nSuccessfully installed geojson-2.5.0 gmaps-0.9.0 ipywidgets-7.7.1 jupyterlab-widgets-1.1.1 widgetsnbextension-3.6.1\n\u001b[33mWARNING: You are using pip version 22.0.4; however, version 22.2 is available.\nYou should consider upgrading via the '/root/venv/bin/python -m pip install --upgrade pip' command.\u001b[0m\u001b[33m\n\u001b[0m",
     "output_type": "stream"
    }
   ]
  },
  {
   "cell_type": "code",
   "metadata": {
    "tags": [],
    "cell_id": "8d4ab2a1-bad5-4611-9b84-9f1e6f8e6ace",
    "deepnote_to_be_reexecuted": false,
    "source_hash": "e88c9503",
    "execution_start": 1658770659195,
    "execution_millis": 38,
    "deepnote_cell_type": "code",
    "deepnote_cell_height": 220
   },
   "source": "# Start writing code here...\nimport pandas as pd\nimport sqlite3\nimport seaborn as sns\nimport numpy as np\n\n\ncon = sqlite3.connect('2022Cosmos13TestData.db')\ncur = con.cursor()",
   "execution_count": null,
   "outputs": []
  },
  {
   "cell_type": "code",
   "metadata": {
    "cell_id": "3f5f15743ddc446db4036f05ad8a52c4",
    "tags": [],
    "deepnote_to_be_reexecuted": true,
    "source_hash": "a6ce13e1",
    "execution_start": 1658266276878,
    "execution_millis": 532,
    "deepnote_cell_type": "code",
    "deepnote_cell_height": 647
   },
   "source": "# joined_table\nsql = '''\nSELECT ph.level, lt.timestamp, lt.lat, lt.lon, lt.boat_id, temperature.degree, dissolved_solids.ppm\nFROM location_time AS lt \nINNER JOIN ph\nON ph.locationtime_id = lt.id\nINNER JOIN temperature\nON temperature.locationtime_id = lt.id\nINNER JOIN dissolved_solids\nON dissolved_solids.locationtime_id = lt.id\n'''\ndf_wtr = pd.read_sql(sql, con)\ndf_wtr.timestamp = pd.to_datetime(df_wtr.timestamp, format='%Y-%m-%d %H:%M:%S')\ndf_wtr.head()\n",
   "execution_count": null,
   "outputs": [
    {
     "output_type": "execute_result",
     "execution_count": 20,
     "data": {
      "application/vnd.deepnote.dataframe.v3+json": {
       "column_count": 7,
       "row_count": 5,
       "columns": [
        {
         "name": "level",
         "dtype": "float64",
         "stats": {
          "unique_count": 5,
          "nan_count": 0,
          "min": "403.64",
          "max": "405.81",
          "histogram": [
           {
            "bin_start": 403.64,
            "bin_end": 403.85699999999997,
            "count": 1
           },
           {
            "bin_start": 403.85699999999997,
            "bin_end": 404.074,
            "count": 1
           },
           {
            "bin_start": 404.074,
            "bin_end": 404.291,
            "count": 0
           },
           {
            "bin_start": 404.291,
            "bin_end": 404.508,
            "count": 1
           },
           {
            "bin_start": 404.508,
            "bin_end": 404.725,
            "count": 0
           },
           {
            "bin_start": 404.725,
            "bin_end": 404.942,
            "count": 0
           },
           {
            "bin_start": 404.942,
            "bin_end": 405.159,
            "count": 1
           },
           {
            "bin_start": 405.159,
            "bin_end": 405.376,
            "count": 0
           },
           {
            "bin_start": 405.376,
            "bin_end": 405.593,
            "count": 0
           },
           {
            "bin_start": 405.593,
            "bin_end": 405.81,
            "count": 1
           }
          ]
         }
        },
        {
         "name": "timestamp",
         "dtype": "datetime64[ns]",
         "stats": {
          "unique_count": 5,
          "nan_count": 0,
          "min": "2016-01-11 06:43:58",
          "max": "2016-01-11 06:55:51",
          "histogram": [
           {
            "bin_start": 1452494638000000000,
            "bin_end": 1452494709300000000,
            "count": 1
           },
           {
            "bin_start": 1452494709300000000,
            "bin_end": 1452494780600000000,
            "count": 0
           },
           {
            "bin_start": 1452494780600000000,
            "bin_end": 1452494851900000000,
            "count": 0
           },
           {
            "bin_start": 1452494851900000000,
            "bin_end": 1452494923200000000,
            "count": 1
           },
           {
            "bin_start": 1452494923200000000,
            "bin_end": 1452494994500000000,
            "count": 0
           },
           {
            "bin_start": 1452494994500000000,
            "bin_end": 1452495065800000000,
            "count": 1
           },
           {
            "bin_start": 1452495065800000000,
            "bin_end": 1452495137100000000,
            "count": 0
           },
           {
            "bin_start": 1452495137100000000,
            "bin_end": 1452495208400000000,
            "count": 1
           },
           {
            "bin_start": 1452495208400000000,
            "bin_end": 1452495279700000000,
            "count": 0
           },
           {
            "bin_start": 1452495279700000000,
            "bin_end": 1452495351000000000,
            "count": 1
           }
          ]
         }
        },
        {
         "name": "lat",
         "dtype": "float64",
         "stats": {
          "unique_count": 5,
          "nan_count": 0,
          "min": "-58.711",
          "max": "-58.68",
          "histogram": [
           {
            "bin_start": -58.711,
            "bin_end": -58.707899999999995,
            "count": 1
           },
           {
            "bin_start": -58.707899999999995,
            "bin_end": -58.7048,
            "count": 1
           },
           {
            "bin_start": -58.7048,
            "bin_end": -58.7017,
            "count": 0
           },
           {
            "bin_start": -58.7017,
            "bin_end": -58.6986,
            "count": 0
           },
           {
            "bin_start": -58.6986,
            "bin_end": -58.695499999999996,
            "count": 1
           },
           {
            "bin_start": -58.695499999999996,
            "bin_end": -58.6924,
            "count": 0
           },
           {
            "bin_start": -58.6924,
            "bin_end": -58.6893,
            "count": 1
           },
           {
            "bin_start": -58.6893,
            "bin_end": -58.6862,
            "count": 0
           },
           {
            "bin_start": -58.6862,
            "bin_end": -58.683099999999996,
            "count": 0
           },
           {
            "bin_start": -58.683099999999996,
            "bin_end": -58.68,
            "count": 1
           }
          ]
         }
        },
        {
         "name": "lon",
         "dtype": "float64",
         "stats": {
          "unique_count": 5,
          "nan_count": 0,
          "min": "-65.522",
          "max": "-65.504",
          "histogram": [
           {
            "bin_start": -65.522,
            "bin_end": -65.5202,
            "count": 1
           },
           {
            "bin_start": -65.5202,
            "bin_end": -65.5184,
            "count": 0
           },
           {
            "bin_start": -65.5184,
            "bin_end": -65.51660000000001,
            "count": 1
           },
           {
            "bin_start": -65.51660000000001,
            "bin_end": -65.51480000000001,
            "count": 0
           },
           {
            "bin_start": -65.51480000000001,
            "bin_end": -65.513,
            "count": 0
           },
           {
            "bin_start": -65.513,
            "bin_end": -65.5112,
            "count": 1
           },
           {
            "bin_start": -65.5112,
            "bin_end": -65.5094,
            "count": 0
           },
           {
            "bin_start": -65.5094,
            "bin_end": -65.50760000000001,
            "count": 1
           },
           {
            "bin_start": -65.50760000000001,
            "bin_end": -65.50580000000001,
            "count": 0
           },
           {
            "bin_start": -65.50580000000001,
            "bin_end": -65.504,
            "count": 1
           }
          ]
         }
        },
        {
         "name": "boat_id",
         "dtype": "int64",
         "stats": {
          "unique_count": 1,
          "nan_count": 0,
          "min": "1",
          "max": "1",
          "histogram": [
           {
            "bin_start": 0.5,
            "bin_end": 0.6,
            "count": 0
           },
           {
            "bin_start": 0.6,
            "bin_end": 0.7,
            "count": 0
           },
           {
            "bin_start": 0.7,
            "bin_end": 0.8,
            "count": 0
           },
           {
            "bin_start": 0.8,
            "bin_end": 0.9,
            "count": 0
           },
           {
            "bin_start": 0.9,
            "bin_end": 1,
            "count": 0
           },
           {
            "bin_start": 1,
            "bin_end": 1.1,
            "count": 5
           },
           {
            "bin_start": 1.1,
            "bin_end": 1.2000000000000002,
            "count": 0
           },
           {
            "bin_start": 1.2000000000000002,
            "bin_end": 1.3,
            "count": 0
           },
           {
            "bin_start": 1.3,
            "bin_end": 1.4,
            "count": 0
           },
           {
            "bin_start": 1.4,
            "bin_end": 1.5,
            "count": 0
           }
          ]
         }
        },
        {
         "name": "degree",
         "dtype": "float64",
         "stats": {
          "unique_count": 5,
          "nan_count": 0,
          "min": "2.7",
          "max": "2.82",
          "histogram": [
           {
            "bin_start": 2.7,
            "bin_end": 2.712,
            "count": 1
           },
           {
            "bin_start": 2.712,
            "bin_end": 2.724,
            "count": 1
           },
           {
            "bin_start": 2.724,
            "bin_end": 2.736,
            "count": 0
           },
           {
            "bin_start": 2.736,
            "bin_end": 2.748,
            "count": 0
           },
           {
            "bin_start": 2.748,
            "bin_end": 2.76,
            "count": 1
           },
           {
            "bin_start": 2.76,
            "bin_end": 2.772,
            "count": 0
           },
           {
            "bin_start": 2.772,
            "bin_end": 2.784,
            "count": 1
           },
           {
            "bin_start": 2.784,
            "bin_end": 2.796,
            "count": 0
           },
           {
            "bin_start": 2.796,
            "bin_end": 2.808,
            "count": 0
           },
           {
            "bin_start": 2.808,
            "bin_end": 2.82,
            "count": 1
           }
          ]
         }
        },
        {
         "name": "ppm",
         "dtype": "float64",
         "stats": {
          "unique_count": 3,
          "nan_count": 0,
          "min": "33.82",
          "max": "33.84",
          "histogram": [
           {
            "bin_start": 33.82,
            "bin_end": 33.822,
            "count": 2
           },
           {
            "bin_start": 33.822,
            "bin_end": 33.824,
            "count": 0
           },
           {
            "bin_start": 33.824,
            "bin_end": 33.826,
            "count": 0
           },
           {
            "bin_start": 33.826,
            "bin_end": 33.828,
            "count": 0
           },
           {
            "bin_start": 33.828,
            "bin_end": 33.83,
            "count": 0
           },
           {
            "bin_start": 33.83,
            "bin_end": 33.832,
            "count": 2
           },
           {
            "bin_start": 33.832,
            "bin_end": 33.834,
            "count": 0
           },
           {
            "bin_start": 33.834,
            "bin_end": 33.836000000000006,
            "count": 0
           },
           {
            "bin_start": 33.836000000000006,
            "bin_end": 33.838,
            "count": 0
           },
           {
            "bin_start": 33.838,
            "bin_end": 33.84,
            "count": 1
           }
          ]
         }
        },
        {
         "name": "_deepnote_index_column",
         "dtype": "int64"
        }
       ],
       "rows": [
        {
         "level": 405.81,
         "timestamp": "2016-01-11T06:43:58.000000",
         "lat": -58.68,
         "lon": -65.522,
         "boat_id": 1,
         "degree": 2.82,
         "ppm": 33.84,
         "_deepnote_index_column": 0
        },
        {
         "level": 405.08,
         "timestamp": "2016-01-11T06:47:40.000000",
         "lat": -58.69,
         "lon": -65.517,
         "boat_id": 1,
         "degree": 2.78,
         "ppm": 33.83,
         "_deepnote_index_column": 1
        },
        {
         "level": 404.47,
         "timestamp": "2016-01-11T06:50:23.000000",
         "lat": -58.698,
         "lon": -65.512,
         "boat_id": 1,
         "degree": 2.75,
         "ppm": 33.83,
         "_deepnote_index_column": 2
        },
        {
         "level": 404.02,
         "timestamp": "2016-01-11T06:53:07.000000",
         "lat": -58.706,
         "lon": -65.508,
         "boat_id": 1,
         "degree": 2.72,
         "ppm": 33.82,
         "_deepnote_index_column": 3
        },
        {
         "level": 403.64,
         "timestamp": "2016-01-11T06:55:51.000000",
         "lat": -58.711,
         "lon": -65.504,
         "boat_id": 1,
         "degree": 2.7,
         "ppm": 33.82,
         "_deepnote_index_column": 4
        }
       ]
      },
      "text/plain": "    level           timestamp     lat     lon  boat_id  degree    ppm\n0  405.81 2016-01-11 06:43:58 -58.680 -65.522        1    2.82  33.84\n1  405.08 2016-01-11 06:47:40 -58.690 -65.517        1    2.78  33.83\n2  404.47 2016-01-11 06:50:23 -58.698 -65.512        1    2.75  33.83\n3  404.02 2016-01-11 06:53:07 -58.706 -65.508        1    2.72  33.82\n4  403.64 2016-01-11 06:55:51 -58.711 -65.504        1    2.70  33.82",
      "text/html": "<div>\n<style scoped>\n    .dataframe tbody tr th:only-of-type {\n        vertical-align: middle;\n    }\n\n    .dataframe tbody tr th {\n        vertical-align: top;\n    }\n\n    .dataframe thead th {\n        text-align: right;\n    }\n</style>\n<table border=\"1\" class=\"dataframe\">\n  <thead>\n    <tr style=\"text-align: right;\">\n      <th></th>\n      <th>level</th>\n      <th>timestamp</th>\n      <th>lat</th>\n      <th>lon</th>\n      <th>boat_id</th>\n      <th>degree</th>\n      <th>ppm</th>\n    </tr>\n  </thead>\n  <tbody>\n    <tr>\n      <th>0</th>\n      <td>405.81</td>\n      <td>2016-01-11 06:43:58</td>\n      <td>-58.680</td>\n      <td>-65.522</td>\n      <td>1</td>\n      <td>2.82</td>\n      <td>33.84</td>\n    </tr>\n    <tr>\n      <th>1</th>\n      <td>405.08</td>\n      <td>2016-01-11 06:47:40</td>\n      <td>-58.690</td>\n      <td>-65.517</td>\n      <td>1</td>\n      <td>2.78</td>\n      <td>33.83</td>\n    </tr>\n    <tr>\n      <th>2</th>\n      <td>404.47</td>\n      <td>2016-01-11 06:50:23</td>\n      <td>-58.698</td>\n      <td>-65.512</td>\n      <td>1</td>\n      <td>2.75</td>\n      <td>33.83</td>\n    </tr>\n    <tr>\n      <th>3</th>\n      <td>404.02</td>\n      <td>2016-01-11 06:53:07</td>\n      <td>-58.706</td>\n      <td>-65.508</td>\n      <td>1</td>\n      <td>2.72</td>\n      <td>33.82</td>\n    </tr>\n    <tr>\n      <th>4</th>\n      <td>403.64</td>\n      <td>2016-01-11 06:55:51</td>\n      <td>-58.711</td>\n      <td>-65.504</td>\n      <td>1</td>\n      <td>2.70</td>\n      <td>33.82</td>\n    </tr>\n  </tbody>\n</table>\n</div>"
     },
     "metadata": {}
    }
   ]
  },
  {
   "cell_type": "code",
   "metadata": {
    "cell_id": "210b38332a57458ebdd459f3b2b4828b",
    "tags": [],
    "deepnote_to_be_reexecuted": true,
    "source_hash": "2f109638",
    "execution_start": 1658265542593,
    "execution_millis": 22,
    "owner_user_id": "3949e388-022e-4f02-986a-38ac08d7fd94",
    "deepnote_cell_type": "code",
    "deepnote_cell_height": 229,
    "deepnote_output_heights": [
     119
    ]
   },
   "source": "corr = df_wtr[['level', 'degree', 'ppm']].corr()\ncorr.style.background_gradient(cmap='coolwarm').set_precision(2)",
   "execution_count": null,
   "outputs": [
    {
     "output_type": "execute_result",
     "execution_count": 15,
     "data": {
      "text/plain": "<pandas.io.formats.style.Styler at 0x7f40b2c25250>",
      "text/html": "<style  type=\"text/css\" >\n#T_2305e_row0_col0,#T_2305e_row1_col1,#T_2305e_row2_col2{\n            background-color:  #b40426;\n            color:  #f1f1f1;\n        }#T_2305e_row0_col1{\n            background-color:  #8db0fe;\n            color:  #000000;\n        }#T_2305e_row0_col2,#T_2305e_row2_col0,#T_2305e_row2_col1{\n            background-color:  #3b4cc0;\n            color:  #f1f1f1;\n        }#T_2305e_row1_col0{\n            background-color:  #98b9ff;\n            color:  #000000;\n        }#T_2305e_row1_col2{\n            background-color:  #485fd1;\n            color:  #f1f1f1;\n        }</style><table id=\"T_2305e_\" ><thead>    <tr>        <th class=\"blank level0\" ></th>        <th class=\"col_heading level0 col0\" >level</th>        <th class=\"col_heading level0 col1\" >degree</th>        <th class=\"col_heading level0 col2\" >ppm</th>    </tr></thead><tbody>\n                <tr>\n                        <th id=\"T_2305e_level0_row0\" class=\"row_heading level0 row0\" >level</th>\n                        <td id=\"T_2305e_row0_col0\" class=\"data row0 col0\" >1.00</td>\n                        <td id=\"T_2305e_row0_col1\" class=\"data row0 col1\" >0.40</td>\n                        <td id=\"T_2305e_row0_col2\" class=\"data row0 col2\" >0.16</td>\n            </tr>\n            <tr>\n                        <th id=\"T_2305e_level0_row1\" class=\"row_heading level0 row1\" >degree</th>\n                        <td id=\"T_2305e_row1_col0\" class=\"data row1 col0\" >0.40</td>\n                        <td id=\"T_2305e_row1_col1\" class=\"data row1 col1\" >1.00</td>\n                        <td id=\"T_2305e_row1_col2\" class=\"data row1 col2\" >0.20</td>\n            </tr>\n            <tr>\n                        <th id=\"T_2305e_level0_row2\" class=\"row_heading level0 row2\" >ppm</th>\n                        <td id=\"T_2305e_row2_col0\" class=\"data row2 col0\" >0.16</td>\n                        <td id=\"T_2305e_row2_col1\" class=\"data row2 col1\" >0.20</td>\n                        <td id=\"T_2305e_row2_col2\" class=\"data row2 col2\" >1.00</td>\n            </tr>\n    </tbody></table>"
     },
     "metadata": {}
    }
   ]
  },
  {
   "cell_type": "code",
   "metadata": {
    "cell_id": "cc2e29f49ada448b851984881ac7b9b0",
    "tags": [],
    "deepnote_to_be_reexecuted": true,
    "source_hash": "d9bf31cd",
    "execution_start": 1658265994732,
    "execution_millis": 18,
    "deepnote_cell_type": "code",
    "deepnote_cell_height": 355.625
   },
   "source": "df_wtr.info()",
   "execution_count": null,
   "outputs": [
    {
     "name": "stdout",
     "text": "<class 'pandas.core.frame.DataFrame'>\nRangeIndex: 10002 entries, 0 to 10001\nData columns (total 7 columns):\n #   Column     Non-Null Count  Dtype  \n---  ------     --------------  -----  \n 0   level      10002 non-null  float64\n 1   timestamp  10002 non-null  object \n 2   lat        10002 non-null  float64\n 3   lon        10002 non-null  float64\n 4   boat_id    10002 non-null  int64  \n 5   degree     10002 non-null  float64\n 6   ppm        10002 non-null  float64\ndtypes: float64(5), int64(1), object(1)\nmemory usage: 547.1+ KB\n",
     "output_type": "stream"
    }
   ]
  },
  {
   "cell_type": "code",
   "metadata": {
    "cell_id": "8200ca8578b742c49cdf2012e187a218",
    "tags": [],
    "deepnote_to_be_reexecuted": false,
    "source_hash": "dad7972f",
    "execution_start": 1659458875649,
    "execution_millis": 671,
    "deepnote_cell_type": "code",
    "deepnote_cell_height": 479,
    "deepnote_output_heights": [
     279
    ]
   },
   "source": "sns.set_theme(style=\"darkgrid\")\n\n\n# Plot the responses for different events and regions\ng = sns.lineplot(x=\"timestamp\", y=\"level\", \n             data=df_wtr)\ng.figure.autofmt_xdate()",
   "execution_count": null,
   "outputs": [
    {
     "output_type": "error",
     "ename": "NameError",
     "evalue": "name 'sns' is not defined",
     "traceback": [
      "\u001b[0;31m---------------------------------------------------------------------------\u001b[0m",
      "\u001b[0;31mNameError\u001b[0m                                 Traceback (most recent call last)",
      "\u001b[0;32m<ipython-input-1-b6c5aed234c0>\u001b[0m in \u001b[0;36m<cell line: 1>\u001b[0;34m()\u001b[0m\n\u001b[0;32m----> 1\u001b[0;31m \u001b[0msns\u001b[0m\u001b[0;34m.\u001b[0m\u001b[0mset_theme\u001b[0m\u001b[0;34m(\u001b[0m\u001b[0mstyle\u001b[0m\u001b[0;34m=\u001b[0m\u001b[0;34m\"darkgrid\"\u001b[0m\u001b[0;34m)\u001b[0m\u001b[0;34m\u001b[0m\u001b[0;34m\u001b[0m\u001b[0m\n\u001b[0m\u001b[1;32m      2\u001b[0m \u001b[0;34m\u001b[0m\u001b[0m\n\u001b[1;32m      3\u001b[0m \u001b[0;34m\u001b[0m\u001b[0m\n\u001b[1;32m      4\u001b[0m \u001b[0;31m# Plot the responses for different events and regions\u001b[0m\u001b[0;34m\u001b[0m\u001b[0;34m\u001b[0m\u001b[0m\n\u001b[1;32m      5\u001b[0m g = sns.lineplot(x=\"timestamp\", y=\"level\", \n",
      "\u001b[0;31mNameError\u001b[0m: name 'sns' is not defined"
     ]
    }
   ]
  },
  {
   "cell_type": "code",
   "metadata": {
    "cell_id": "ee94dae29f7c4f99a4e9cce0f000c563",
    "tags": [],
    "deepnote_to_be_reexecuted": true,
    "source_hash": "878dd605",
    "execution_start": 1658266478891,
    "execution_millis": 27478,
    "deepnote_cell_type": "code",
    "deepnote_cell_height": 387,
    "deepnote_output_heights": [
     259
    ]
   },
   "source": "g = sns.lineplot(x=\"lat\", y=\"level\", \n             data=df_wtr)\ng.figure.autofmt_xdate()",
   "execution_count": null,
   "outputs": [
    {
     "data": {
      "text/plain": "<Figure size 432x288 with 1 Axes>",
      "image/png": "[encoded data removed]"
     },
     "metadata": {
      "image/png": {
       "width": 396,
       "height": 257
      }
     },
     "output_type": "display_data"
    }
   ]
  },
  {
   "cell_type": "code",
   "metadata": {
    "cell_id": "4072eab00cca4ef79b333ddac240f009",
    "tags": [],
    "deepnote_to_be_reexecuted": true,
    "source_hash": "39d522ea",
    "execution_start": 1658266638179,
    "execution_millis": 24853,
    "deepnote_cell_type": "code",
    "deepnote_cell_height": 387,
    "deepnote_output_heights": [
     259
    ]
   },
   "source": "g = sns.lineplot(x=\"lon\", y=\"level\", \n             data=df_wtr)\ng.figure.autofmt_xdate()",
   "execution_count": null,
   "outputs": [
    {
     "data": {
      "text/plain": "<Figure size 432x288 with 1 Axes>",
      "image/png": "[encoded data removed]"
     },
     "metadata": {
      "image/png": {
       "width": 396,
       "height": 257
      }
     },
     "output_type": "display_data"
    }
   ]
  },
  {
   "cell_type": "code",
   "metadata": {
    "cell_id": "41b2906d02c54c429b62a2a48e5f9fcf",
    "tags": [],
    "deepnote_to_be_reexecuted": true,
    "source_hash": "3650cd93",
    "execution_start": 1658266748444,
    "execution_millis": 881,
    "deepnote_cell_type": "code",
    "deepnote_cell_height": 407,
    "deepnote_output_heights": [
     279
    ]
   },
   "source": "g = sns.lineplot(x=\"timestamp\", y=\"degree\", \n             data=df_wtr)\ng.figure.autofmt_xdate()",
   "execution_count": null,
   "outputs": [
    {
     "data": {
      "text/plain": "<Figure size 432x288 with 1 Axes>",
      "image/png": "[encoded data removed]"
     },
     "metadata": {
      "image/png": {
       "width": 391,
       "height": 277
      }
     },
     "output_type": "display_data"
    }
   ]
  },
  {
   "cell_type": "markdown",
   "source": "<a style='text-decoration:none;line-height:16px;display:flex;color:#5B5B62;padding:10px;justify-content:end;' href='https://deepnote.com?utm_source=created-in-deepnote-cell&projectId=ad7152cb-d6c4-47fc-bce4-a1bd5240d55e' target=\"_blank\">\n<img alt='Created in deepnote.com' style='display:inline;max-height:16px;margin:0px;margin-right:7.5px;' src='data:image/svg+xml;base64,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' > </img>\nCreated in <span style='font-weight:600;margin-left:4px;'>Deepnote</span></a>",
   "metadata": {
    "tags": [],
    "created_in_deepnote_cell": true,
    "deepnote_cell_type": "markdown"
   }
  }
 ],
 "nbformat": 4,
 "nbformat_minor": 2,
 "metadata": {
  "orig_nbformat": 2,
  "deepnote": {},
  "deepnote_notebook_id": "606ade57-eed4-4b41-921a-70c390196117",
  "deepnote_execution_queue": []
 }
}